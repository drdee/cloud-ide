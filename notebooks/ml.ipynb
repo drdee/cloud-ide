{
 "cells": [
  {
   "cell_type": "code",
   "execution_count": 2,
   "metadata": {},
   "outputs": [],
   "source": [
    "import mlflow"
   ]
  },
  {
   "cell_type": "code",
   "execution_count": 3,
   "metadata": {},
   "outputs": [
    {
     "name": "stdout",
     "output_type": "stream",
     "text": [
      "environ({'PYENV_VIRTUALENV_INIT': '1', 'LESSOPEN': '| /usr/bin/lesspipe %s', 'GITPOD_WORKSPACE_CONTEXT_URL': 'https://github.com/drdee/cloud-ide', 'SDKMAN_VERSION': '5.15.0', 'GITPOD_REPO_ROOTS': '/workspace/cloud-ide', 'USER': 'gitpod', 'GITPOD_PREVENT_METADATA_ACCESS': 'true', 'JAVA_TOOL_OPTIONS': ' -Xmx3435m', 'GIT_EDITOR': '/ide/bin/remote-cli/gitpod-code --wait', 'NODE_VERSION': '16.15.0', 'HOSTNAME': 'drdee-cloudide-cm09th8mo48', 'THEIA_WEBVIEW_EXTERNAL_ENDPOINT': 'webview-{{hostname}}', 'SHLVL': '0', 'GITPOD_ANALYTICS_SEGMENT_KEY': 'bUY8IRdJ42KjLOBS9LoIHMYFBD8rSzjU', 'HOME': '/home/gitpod', 'OLDPWD': '/', 'PYENV_SHELL': 'bash', 'VSX_REGISTRY_URL': 'https://open-vsx.gitpod.io', 'WORKSPACEKIT_WRAP_NETNS': 'true', 'GRADLE_HOME': '/home/gitpod/.sdkman/candidates/gradle/current', 'GITPOD_TASKS': '[{\"init\":\"gp open README.md; poetry install;\\\\n\",\"command\":\"gp open README.md;\\\\n\"}]', 'NIX_PROFILES': '/nix/var/nix/profiles/default /home/gitpod/.nix-profile', 'MAVEN_HOME': '/home/gitpod/.sdkman/candidates/maven/current', 'GOROOT': '/home/gitpod/go', 'VISUAL': '/ide/bin/remote-cli/gitpod-code', 'SUPERVISOR_ADDR': 'localhost:22999', 'GITPOD_THEIA_PORT': '23000', 'APACHE_DOCROOT_IN_REPO': 'public', 'GITPOD_ANALYTICS_WRITER': 'segment', 'THEIA_MINI_BROWSER_HOST_PATTERN': 'browser-{{hostname}}', 'NVM_DIR': '/home/gitpod/.nvm', 'GITPOD_IDE_ALIAS': 'code', 'INFOPATH': ':/home/linuxbrew/.linuxbrew/share/info', 'GITPOD_WORKSPACE_CONTEXT': '{\"isFile\":false,\"path\":\"\",\"title\":\"drdee/cloud-ide - main\",\"ref\":\"main\",\"refType\":\"branch\",\"revision\":\"75b567b5709e7331db217431e5b28b73a23ad2e5\",\"repository\":{\"cloneUrl\":\"https://github.com/drdee/cloud-ide.git\",\"host\":\"github.com\",\"name\":\"cloud-ide\",\"owner\":\"drdee\",\"private\":false},\"normalizedContextURL\":\"https://github.com/drdee/cloud-ide\",\"checkoutLocation\":\"cloud-ide\"}', 'GITPOD_MEMORY': '3435', 'GITPOD_GIT_USER_EMAIL': 'dvanliere@gmail.com', 'GP_OPEN_EDITOR': '/ide/bin/remote-cli/gitpod-code', 'GITPOD_HOST': 'https://gitpod.io', 'PIP_USER': 'no', 'GITPOD_OWNER_ID': 'ec325ac1-7c67-41cc-99b9-63d53058427d', 'rvm_bin_path': '/home/gitpod/.rvm/bin', 'SDKMAN_CANDIDATES_API': 'https://api.sdkman.io/2', 'RUBY_VERSION': 'ruby-2.7.6', 'IRBRC': '/home/gitpod/.rvm/rubies/ruby-2.7.6/.irbrc', 'GITPOD_WORKSPACE_URL': 'https://drdee-cloudide-cm09th8mo48.ws-us46.gitpod.io', 'GO_VERSION': '1.18.2', 'PATH': '/home/gitpod/.pyenv/versions/3.8.13/bin:/ide/bin/remote-cli:/home/gitpod/.nix-profile/bin:/workspace/.cargo/bin:/home/gitpod/.pyenv/plugins/pyenv-virtualenv/shims:/home/gitpod/.pyenv/shims:/workspace/go/bin:/home/gitpod/.nix-profile/bin:/home/gitpod/.nix-profile/bin:/home/gitpod/.sdkman/candidates/maven/current/bin:/home/gitpod/.sdkman/candidates/java/current/bin:/home/gitpod/.sdkman/candidates/gradle/current/bin:/workspace/.cargo/bin:/home/gitpod/.rvm/gems/ruby-2.7.6/bin:/home/gitpod/.rvm/gems/ruby-2.7.6@global/bin:/home/gitpod/.rvm/rubies/ruby-2.7.6/bin:/home/gitpod/.pyenv/plugins/pyenv-virtualenv/shims:/workspace/go/bin:/home/gitpod/.nix-profile/bin:/ide/bin/remote-cli:/home/gitpod/go/bin:/home/gitpod/go-packages/bin:/home/gitpod/.nvm/versions/node/v16.15.0/bin:/workspace/.pip-modules/bin:/home/gitpod/.pyenv/bin:/workspace/.rvm/bin:/home/gitpod/.cargo/bin:/home/linuxbrew/.linuxbrew/bin:/home/linuxbrew/.linuxbrew/sbin/:/usr/games:/usr/local/sbin:/usr/local/bin:/usr/sbin:/usr/bin:/sbin:/bin:/home/gitpod/.nvm/versions/node/v16.15.0/bin:/home/gitpod/.rvm/bin:/home/gitpod/.rvm/bin:/home/gitpod/.nvm/versions/node/v16.15.0/bin:/home/gitpod/.nvm/versions/node/v16.15.0/bin:/home/gitpod/.rvm/bin', 'SDKMAN_CANDIDATES_DIR': '/home/gitpod/.sdkman/candidates', 'GITPOD_GIT_USER_NAME': 'Diederik van Liere', 'THEIA_WORKSPACE_ROOT': '/workspace/cloud-ide', 'MY_RUBY_HOME': '/home/gitpod/.rvm/rubies/ruby-2.7.6', 'GP_EXTERNAL_BROWSER': '/ide/bin/remote-cli/gitpod-code --openExternal', 'GITPOD_INSTANCE_ID': 'd6769283-3bab-403d-9677-8b9f2bf5732a', 'LANG': 'en_US.UTF-8', 'PYTHONUSERBASE': '/workspace/.pip-modules', 'LS_COLORS': '', 'SDKMAN_DIR': '/home/gitpod/.sdkman', 'SDKMAN_PLATFORM': 'linuxx64', 'NIX_VERSION': '2.6.0', 'GITPOD_CLI_APITOKEN': 'n1wjgEwEjRHrsgirFnd82Zgi4bjbyyki', 'SHELL': '/bin/bash', 'GOPATH': '/workspace/go', 'rvm_prefix': '/home/gitpod', 'SUPERVISOR_ENVVAR_OTS': 'https://gitpod.io/api/ots/get/8e64946d-1a60-4e96-96be-f2acffaef563', 'GEM_HOME': '/home/gitpod/.rvm/gems/ruby-2.7.6', 'LESSCLOSE': '/usr/bin/lesspipe %s %s', 'NIX_SSL_CERT_FILE': '/etc/ssl/certs/ca-certificates.crt', 'rvm_version': '1.29.12 (latest)', 'PIPENV_VENV_IN_PROJECT': 'true', 'JAVA_HOME': '/home/gitpod/.sdkman/candidates/java/current', 'TRIGGER_REBUILD': '1', 'PWD': '/ide', 'GRADLE_USER_HOME': '/workspace/.gradle/', 'GEM_PATH': '/home/gitpod/.rvm/gems/ruby-2.7.6:/home/gitpod/.rvm/gems/ruby-2.7.6@global', 'CARGO_HOME': '/workspace/.cargo', 'NGINX_DOCROOT_IN_REPO': 'public', 'HOMEBREW_NO_AUTO_UPDATE': '1', 'GITPOD_WORKSPACE_CLUSTER_HOST': 'ws-us46.gitpod.io', 'GITPOD_WORKSPACE_ID': 'drdee-cloudide-cm09th8mo48', 'GP_PREVIEW_BROWSER': '/ide/bin/remote-cli/gitpod-code --preview', 'GITPOD_REPO_ROOT': '/workspace/cloud-ide', 'THEIA_RATELIMIT_LOG': '50', 'MANPATH': '/home/gitpod/.nix-profile/share/man:/home/gitpod/.nix-profile/share/man:/home/gitpod/.nix-profile/share/man:/home/gitpod/.nix-profile/share/man::/home/linuxbrew/.linuxbrew/share/man', 'GITPOD_INTERVAL': '30000', 'rvm_path': '/home/gitpod/.rvm', 'EDITOR': '/ide/bin/remote-cli/gitpod-code', 'VSCODE_HANDLES_SIGPIPE': 'true', 'rvm_stored_umask': '0022', 'rvm_user_install_flag': '1', 'rvm_loaded_flag': '1', '_': '/ide/node', 'VSCODE_LOG_NATIVE': 'false', 'VSCODE_AMD_ENTRYPOINT': 'vs/workbench/api/node/extensionHostProcess', 'VSCODE_PIPE_LOGGING': 'true', 'VSCODE_VERBOSE_LOGGING': 'true', 'VSCODE_EXTHOST_WILL_SEND_SOCKET': 'true', 'VSCODE_HANDLES_UNCAUGHT_ERRORS': 'true', 'VSCODE_LOG_STACK': 'false', 'VSCODE_NLS_CONFIG': '{\"locale\":\"en-US\",\"availableLanguages\":{}}', 'GITPOD_CODE_HOST': 'https://gitpod.io', 'BROWSER': '/ide/bin/helpers/browser.sh', 'VSCODE_CWD': '/ide', 'VSCODE_IPC_HOOK_CLI': '/tmp/vscode-ipc-0e4606e2-76be-4d9f-a88d-39b63ff457c4.sock', 'PYTHONUNBUFFERED': '1', 'PYTHONIOENCODING': 'utf-8', 'PYDEVD_USE_FRAME_EVAL': 'NO', 'TERM': 'xterm-color', 'CLICOLOR': '1', 'PAGER': 'cat', 'GIT_PAGER': 'cat', 'MPLBACKEND': 'module://matplotlib_inline.backend_inline'})\n"
     ]
    }
   ],
   "source": [
    "os.environ\n",
    "print(os.environ)"
   ]
  },
  {
   "cell_type": "code",
   "execution_count": null,
   "metadata": {},
   "outputs": [],
   "source": []
  }
 ],
 "metadata": {
  "kernelspec": {
   "display_name": "Python 3.8.13 64-bit ('3.8.13')",
   "language": "python",
   "name": "python3"
  },
  "language_info": {
   "codemirror_mode": {
    "name": "ipython",
    "version": 3
   },
   "file_extension": ".py",
   "mimetype": "text/x-python",
   "name": "python",
   "nbconvert_exporter": "python",
   "pygments_lexer": "ipython3",
   "version": "3.8.13"
  },
  "orig_nbformat": 4,
  "vscode": {
   "interpreter": {
    "hash": "110cc1dee26208153f2972f08a2ad52b6a56238dc66d48e87fb757ef2996db56"
   }
  }
 },
 "nbformat": 4,
 "nbformat_minor": 2
}
